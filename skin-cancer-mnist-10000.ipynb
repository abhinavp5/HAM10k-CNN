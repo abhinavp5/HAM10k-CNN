{
 "cells": [
  {
   "cell_type": "code",
   "execution_count": 1,
   "id": "39a96be0",
   "metadata": {
    "_cell_guid": "b1076dfc-b9ad-4769-8c92-a6c4dae69d19",
    "_uuid": "8f2839f25d086af736a60e9eeb907d3b93b6e0e5",
    "execution": {
     "iopub.execute_input": "2024-08-28T15:56:57.065832Z",
     "iopub.status.busy": "2024-08-28T15:56:57.065419Z",
     "iopub.status.idle": "2024-08-28T15:57:21.014725Z",
     "shell.execute_reply": "2024-08-28T15:57:21.013396Z"
    },
    "papermill": {
     "duration": 23.960676,
     "end_time": "2024-08-28T15:57:21.018042",
     "exception": false,
     "start_time": "2024-08-28T15:56:57.057366",
     "status": "completed"
    },
    "tags": []
   },
   "outputs": [
    {
     "name": "stderr",
     "output_type": "stream",
     "text": [
      "2024-08-28 15:57:06.390545: E external/local_xla/xla/stream_executor/cuda/cuda_dnn.cc:9261] Unable to register cuDNN factory: Attempting to register factory for plugin cuDNN when one has already been registered\n",
      "2024-08-28 15:57:06.390870: E external/local_xla/xla/stream_executor/cuda/cuda_fft.cc:607] Unable to register cuFFT factory: Attempting to register factory for plugin cuFFT when one has already been registered\n",
      "2024-08-28 15:57:06.575979: E external/local_xla/xla/stream_executor/cuda/cuda_blas.cc:1515] Unable to register cuBLAS factory: Attempting to register factory for plugin cuBLAS when one has already been registered\n"
     ]
    }
   ],
   "source": [
    "# This Python 3 environment comes with many helpful analytics libraries installed\n",
    "# It is defined by the kaggle/python Docker image: https://github.com/kaggle/docker-python\n",
    "# For example, here's several helpful packages to load\n",
    "\n",
    "import numpy as np # linear algebra\n",
    "import pandas as pd # data processing, CSV file I/O (e.g. pd.read_csv)\n",
    "from glob import glob\n",
    "import os \n",
    "from PIL import Image\n",
    "import matplotlib.pyplot as plt \n",
    "import os \n",
    "import random \n",
    "\n",
    "#model building \n",
    "import torch \n",
    "import torchvision \n",
    "from torchvision.transforms import v2\n",
    "import torchvision.transforms as T   #for data augmentation\n",
    "import torchvision.models as models\n",
    "import torch.nn as nn\n",
    "import torch.optim as optim\n",
    "from torchvision.models import ResNet34_Weights\n",
    "from torchvision.models import DenseNet121_Weights\n",
    "from keras.applications import DenseNet121\n",
    "\n",
    "#plotting and evaluation\n",
    "import seaborn as sns \n",
    "from sklearn.metrics import confusion_matrix \n",
    "\n",
    "#Data Pipeline\n",
    "from imblearn.over_sampling import RandomOverSampler as ROS #training data oversampling\n",
    "from sklearn.model_selection import train_test_split #splitting dataframers\n",
    "from torch.utils.data import Dataset, DataLoader #data pipeline\n",
    "\n",
    "#utils\n",
    "import torch.nn.functional as F #softmax\n",
    "from tqdm import tqdm \n",
    "\n",
    "\n",
    "#setting device if a gpu is available \n",
    "DEVICE = 'cuda' if torch.cuda.is_available() else 'cpu'"
   ]
  },
  {
   "cell_type": "code",
   "execution_count": 2,
   "id": "7cb2ffc0",
   "metadata": {
    "execution": {
     "iopub.execute_input": "2024-08-28T15:57:21.034483Z",
     "iopub.status.busy": "2024-08-28T15:57:21.032716Z",
     "iopub.status.idle": "2024-08-28T15:57:21.040366Z",
     "shell.execute_reply": "2024-08-28T15:57:21.038818Z"
    },
    "papermill": {
     "duration": 0.018215,
     "end_time": "2024-08-28T15:57:21.043008",
     "exception": false,
     "start_time": "2024-08-28T15:57:21.024793",
     "status": "completed"
    },
    "tags": []
   },
   "outputs": [
    {
     "name": "stdout",
     "output_type": "stream",
     "text": [
      "['densenet121-weights', 'skin-cancer-mnist-ham10000', 'densenet121pthfile']\n"
     ]
    }
   ],
   "source": [
    "print(os.listdir(\"/kaggle/input/\"))"
   ]
  },
  {
   "cell_type": "code",
   "execution_count": 3,
   "id": "044c9256",
   "metadata": {
    "execution": {
     "iopub.execute_input": "2024-08-28T15:57:21.058084Z",
     "iopub.status.busy": "2024-08-28T15:57:21.057583Z",
     "iopub.status.idle": "2024-08-28T15:57:21.063661Z",
     "shell.execute_reply": "2024-08-28T15:57:21.062076Z"
    },
    "papermill": {
     "duration": 0.017172,
     "end_time": "2024-08-28T15:57:21.066524",
     "exception": false,
     "start_time": "2024-08-28T15:57:21.049352",
     "status": "completed"
    },
    "tags": []
   },
   "outputs": [],
   "source": [
    "# #reading the data \n",
    "# base_skin_dir = \"/kaggle/input/skin-cancer-mnist-ham10000\"\n",
    "# skin_df = pd.read_csv(os.path.join(base_skin_dir,\"HAM10000_metadata.csv\"))\n",
    "\n",
    "# #getting img paths \n",
    "# img_path = {}\n",
    "# for x in glob(os.path.join(base_skin_dir,'*','*.jpg')):\n",
    "#     img_path[os.path.splitext(os.path.basename(x))[0]] = x\n",
    "\n",
    "# #adding img_paths and imgs to the df\n",
    "# skin_df[\"path\"] = skin_df[\"image_id\"].map(img_path.get)\n",
    "# skin_df[\"img\"] = skin_df[\"path\"].map(lambda x: np.asarray(Image.open(x).resize((32,32))))\n",
    "\n"
   ]
  },
  {
   "cell_type": "code",
   "execution_count": 4,
   "id": "54f8a65b",
   "metadata": {
    "execution": {
     "iopub.execute_input": "2024-08-28T15:57:21.082049Z",
     "iopub.status.busy": "2024-08-28T15:57:21.081566Z",
     "iopub.status.idle": "2024-08-28T15:57:21.086803Z",
     "shell.execute_reply": "2024-08-28T15:57:21.085626Z"
    },
    "papermill": {
     "duration": 0.015683,
     "end_time": "2024-08-28T15:57:21.089320",
     "exception": false,
     "start_time": "2024-08-28T15:57:21.073637",
     "status": "completed"
    },
    "tags": []
   },
   "outputs": [],
   "source": [
    "# #plotting sample data\n",
    "# plt.imshow(skin_df[\"img\"][0])\n",
    "# plt.title(skin_df[\"dx\"][0])"
   ]
  },
  {
   "cell_type": "code",
   "execution_count": 5,
   "id": "3415a942",
   "metadata": {
    "execution": {
     "iopub.execute_input": "2024-08-28T15:57:21.103688Z",
     "iopub.status.busy": "2024-08-28T15:57:21.103203Z",
     "iopub.status.idle": "2024-08-28T15:57:21.108783Z",
     "shell.execute_reply": "2024-08-28T15:57:21.107442Z"
    },
    "papermill": {
     "duration": 0.015944,
     "end_time": "2024-08-28T15:57:21.111436",
     "exception": false,
     "start_time": "2024-08-28T15:57:21.095492",
     "status": "completed"
    },
    "tags": []
   },
   "outputs": [],
   "source": [
    "# #applying transforms \n",
    "# TRANSFORM_IMG = transforms.Compose([\n",
    "#     v2.Resize(32), #resizing the image to 32\n",
    "#     v2.RandomHorizontalFlip(p=0.5),\n",
    "#     v2.ToDtype(torch.float32, scale = True), #converting input mage to pytorch tensor\n",
    "#     transforms.Normalize(mean = [0.5,0.5,0.5], std = [0.5,0.5,0.5])\n",
    "# ])\n",
    "\n",
    "# train_data = torchvision.datasets.ImageFolder(root=base_skin_dir, transform = TRANSFORM_IMG)\n"
   ]
  },
  {
   "cell_type": "markdown",
   "id": "b2799b3b",
   "metadata": {
    "papermill": {
     "duration": 0.005855,
     "end_time": "2024-08-28T15:57:21.123532",
     "exception": false,
     "start_time": "2024-08-28T15:57:21.117677",
     "status": "completed"
    },
    "tags": []
   },
   "source": [
    "**Visualing and Balancing Data distribution**"
   ]
  },
  {
   "cell_type": "code",
   "execution_count": 6,
   "id": "617ede3a",
   "metadata": {
    "execution": {
     "iopub.execute_input": "2024-08-28T15:57:21.138077Z",
     "iopub.status.busy": "2024-08-28T15:57:21.137591Z",
     "iopub.status.idle": "2024-08-28T15:57:25.180573Z",
     "shell.execute_reply": "2024-08-28T15:57:25.179385Z"
    },
    "papermill": {
     "duration": 4.05316,
     "end_time": "2024-08-28T15:57:25.183051",
     "exception": false,
     "start_time": "2024-08-28T15:57:21.129891",
     "status": "completed"
    },
    "tags": []
   },
   "outputs": [
    {
     "data": {
      "text/html": [
       "<div>\n",
       "<style scoped>\n",
       "    .dataframe tbody tr th:only-of-type {\n",
       "        vertical-align: middle;\n",
       "    }\n",
       "\n",
       "    .dataframe tbody tr th {\n",
       "        vertical-align: top;\n",
       "    }\n",
       "\n",
       "    .dataframe thead th {\n",
       "        text-align: right;\n",
       "    }\n",
       "</style>\n",
       "<table border=\"1\" class=\"dataframe\">\n",
       "  <thead>\n",
       "    <tr style=\"text-align: right;\">\n",
       "      <th></th>\n",
       "      <th>pixel0000</th>\n",
       "      <th>pixel0001</th>\n",
       "      <th>pixel0002</th>\n",
       "      <th>pixel0003</th>\n",
       "      <th>pixel0004</th>\n",
       "      <th>pixel0005</th>\n",
       "      <th>pixel0006</th>\n",
       "      <th>pixel0007</th>\n",
       "      <th>pixel0008</th>\n",
       "      <th>pixel0009</th>\n",
       "      <th>...</th>\n",
       "      <th>pixel2343</th>\n",
       "      <th>pixel2344</th>\n",
       "      <th>pixel2345</th>\n",
       "      <th>pixel2346</th>\n",
       "      <th>pixel2347</th>\n",
       "      <th>pixel2348</th>\n",
       "      <th>pixel2349</th>\n",
       "      <th>pixel2350</th>\n",
       "      <th>pixel2351</th>\n",
       "      <th>label</th>\n",
       "    </tr>\n",
       "  </thead>\n",
       "  <tbody>\n",
       "    <tr>\n",
       "      <th>0</th>\n",
       "      <td>192</td>\n",
       "      <td>153</td>\n",
       "      <td>193</td>\n",
       "      <td>195</td>\n",
       "      <td>155</td>\n",
       "      <td>192</td>\n",
       "      <td>197</td>\n",
       "      <td>154</td>\n",
       "      <td>185</td>\n",
       "      <td>202</td>\n",
       "      <td>...</td>\n",
       "      <td>173</td>\n",
       "      <td>124</td>\n",
       "      <td>138</td>\n",
       "      <td>183</td>\n",
       "      <td>147</td>\n",
       "      <td>166</td>\n",
       "      <td>185</td>\n",
       "      <td>154</td>\n",
       "      <td>177</td>\n",
       "      <td>2</td>\n",
       "    </tr>\n",
       "    <tr>\n",
       "      <th>1</th>\n",
       "      <td>25</td>\n",
       "      <td>14</td>\n",
       "      <td>30</td>\n",
       "      <td>68</td>\n",
       "      <td>48</td>\n",
       "      <td>75</td>\n",
       "      <td>123</td>\n",
       "      <td>93</td>\n",
       "      <td>126</td>\n",
       "      <td>158</td>\n",
       "      <td>...</td>\n",
       "      <td>60</td>\n",
       "      <td>39</td>\n",
       "      <td>55</td>\n",
       "      <td>25</td>\n",
       "      <td>14</td>\n",
       "      <td>28</td>\n",
       "      <td>25</td>\n",
       "      <td>14</td>\n",
       "      <td>27</td>\n",
       "      <td>2</td>\n",
       "    </tr>\n",
       "    <tr>\n",
       "      <th>2</th>\n",
       "      <td>192</td>\n",
       "      <td>138</td>\n",
       "      <td>153</td>\n",
       "      <td>200</td>\n",
       "      <td>145</td>\n",
       "      <td>163</td>\n",
       "      <td>201</td>\n",
       "      <td>142</td>\n",
       "      <td>160</td>\n",
       "      <td>206</td>\n",
       "      <td>...</td>\n",
       "      <td>167</td>\n",
       "      <td>129</td>\n",
       "      <td>143</td>\n",
       "      <td>159</td>\n",
       "      <td>124</td>\n",
       "      <td>142</td>\n",
       "      <td>136</td>\n",
       "      <td>104</td>\n",
       "      <td>117</td>\n",
       "      <td>2</td>\n",
       "    </tr>\n",
       "    <tr>\n",
       "      <th>3</th>\n",
       "      <td>38</td>\n",
       "      <td>19</td>\n",
       "      <td>30</td>\n",
       "      <td>95</td>\n",
       "      <td>59</td>\n",
       "      <td>72</td>\n",
       "      <td>143</td>\n",
       "      <td>103</td>\n",
       "      <td>119</td>\n",
       "      <td>171</td>\n",
       "      <td>...</td>\n",
       "      <td>44</td>\n",
       "      <td>26</td>\n",
       "      <td>36</td>\n",
       "      <td>25</td>\n",
       "      <td>12</td>\n",
       "      <td>17</td>\n",
       "      <td>25</td>\n",
       "      <td>12</td>\n",
       "      <td>15</td>\n",
       "      <td>2</td>\n",
       "    </tr>\n",
       "    <tr>\n",
       "      <th>4</th>\n",
       "      <td>158</td>\n",
       "      <td>113</td>\n",
       "      <td>139</td>\n",
       "      <td>194</td>\n",
       "      <td>144</td>\n",
       "      <td>174</td>\n",
       "      <td>215</td>\n",
       "      <td>162</td>\n",
       "      <td>191</td>\n",
       "      <td>225</td>\n",
       "      <td>...</td>\n",
       "      <td>209</td>\n",
       "      <td>166</td>\n",
       "      <td>185</td>\n",
       "      <td>172</td>\n",
       "      <td>135</td>\n",
       "      <td>149</td>\n",
       "      <td>109</td>\n",
       "      <td>78</td>\n",
       "      <td>92</td>\n",
       "      <td>2</td>\n",
       "    </tr>\n",
       "  </tbody>\n",
       "</table>\n",
       "<p>5 rows × 2353 columns</p>\n",
       "</div>"
      ],
      "text/plain": [
       "   pixel0000  pixel0001  pixel0002  pixel0003  pixel0004  pixel0005  \\\n",
       "0        192        153        193        195        155        192   \n",
       "1         25         14         30         68         48         75   \n",
       "2        192        138        153        200        145        163   \n",
       "3         38         19         30         95         59         72   \n",
       "4        158        113        139        194        144        174   \n",
       "\n",
       "   pixel0006  pixel0007  pixel0008  pixel0009  ...  pixel2343  pixel2344  \\\n",
       "0        197        154        185        202  ...        173        124   \n",
       "1        123         93        126        158  ...         60         39   \n",
       "2        201        142        160        206  ...        167        129   \n",
       "3        143        103        119        171  ...         44         26   \n",
       "4        215        162        191        225  ...        209        166   \n",
       "\n",
       "   pixel2345  pixel2346  pixel2347  pixel2348  pixel2349  pixel2350  \\\n",
       "0        138        183        147        166        185        154   \n",
       "1         55         25         14         28         25         14   \n",
       "2        143        159        124        142        136        104   \n",
       "3         36         25         12         17         25         12   \n",
       "4        185        172        135        149        109         78   \n",
       "\n",
       "   pixel2351  label  \n",
       "0        177      2  \n",
       "1         27      2  \n",
       "2        117      2  \n",
       "3         15      2  \n",
       "4         92      2  \n",
       "\n",
       "[5 rows x 2353 columns]"
      ]
     },
     "execution_count": 6,
     "metadata": {},
     "output_type": "execute_result"
    }
   ],
   "source": [
    "data = pd.read_csv('/kaggle/input/skin-cancer-mnist-ham10000/hmnist_28_28_RGB.csv')\n",
    "data.head()"
   ]
  },
  {
   "cell_type": "code",
   "execution_count": 7,
   "id": "38a620fb",
   "metadata": {
    "execution": {
     "iopub.execute_input": "2024-08-28T15:57:25.198263Z",
     "iopub.status.busy": "2024-08-28T15:57:25.197841Z",
     "iopub.status.idle": "2024-08-28T15:57:25.207470Z",
     "shell.execute_reply": "2024-08-28T15:57:25.206300Z"
    },
    "papermill": {
     "duration": 0.020363,
     "end_time": "2024-08-28T15:57:25.209792",
     "exception": false,
     "start_time": "2024-08-28T15:57:25.189429",
     "status": "completed"
    },
    "tags": []
   },
   "outputs": [
    {
     "data": {
      "text/plain": [
       "(['akiec', 'bcc', 'bkl', 'df', 'nv', 'vasc', 'mel'],\n",
       " [['Actinic keratoses'],\n",
       "  [' basal cell carcinoma'],\n",
       "  ['benign keratosis-like lesions'],\n",
       "  ['dermatofibroma'],\n",
       "  [' melanocytic nevi'],\n",
       "  [' pyogenic granulomas and hemorrhage'],\n",
       "  ['melanoma']])"
      ]
     },
     "execution_count": 7,
     "metadata": {},
     "output_type": "execute_result"
    }
   ],
   "source": [
    "classes = {0: ('akiec', 'Actinic keratoses'),  \n",
    "           1:('bcc' , ' basal cell carcinoma'), \n",
    "           2:('bkl', 'benign keratosis-like lesions'), \n",
    "           3: ('df', 'dermatofibroma'),\n",
    "           4: ('nv', ' melanocytic nevi'), \n",
    "           5: ('vasc', ' pyogenic granulomas and hemorrhage'), \n",
    "           6: ('mel', 'melanoma'),\n",
    "           }\n",
    "CLASSES  =  [classes[idx][0] for idx in range(len(classes))]\n",
    "CLASSES_FULL = [[classes[idx][1]] for idx in range(len(classes))]\n",
    "\n",
    "CLASSES, CLASSES_FULL"
   ]
  },
  {
   "cell_type": "code",
   "execution_count": 8,
   "id": "496c7478",
   "metadata": {
    "execution": {
     "iopub.execute_input": "2024-08-28T15:57:25.223841Z",
     "iopub.status.busy": "2024-08-28T15:57:25.223450Z",
     "iopub.status.idle": "2024-08-28T15:57:25.871952Z",
     "shell.execute_reply": "2024-08-28T15:57:25.870741Z"
    },
    "papermill": {
     "duration": 0.658991,
     "end_time": "2024-08-28T15:57:25.874979",
     "exception": false,
     "start_time": "2024-08-28T15:57:25.215988",
     "status": "completed"
    },
    "tags": []
   },
   "outputs": [
    {
     "data": {
      "text/plain": [
       "<matplotlib.image.AxesImage at 0x7e4baa2f1c60>"
      ]
     },
     "execution_count": 8,
     "metadata": {},
     "output_type": "execute_result"
    },
    {
     "data": {
      "image/png": "[encoded data removed]",
      "text/plain": [
       "<Figure size 1024x1024 with 1 Axes>"
      ]
     },
     "metadata": {},
     "output_type": "display_data"
    }
   ],
   "source": [
    "#providing some sample images\n",
    "n_classes = len(CLASSES)\n",
    "sample_imgs = []\n",
    "\n",
    "for cl in classes.keys():\n",
    "    img_idxs = data[\"label\"] == cl\n",
    "    n_imgs = len(data[img_idxs])\n",
    "    chosen = random.sample(list(np.arange(n_imgs)), k= n_classes) \n",
    "    \n",
    "    images = np.asarray(data[img_idxs].iloc[chosen,:-1])# extracting slected images without label in last column\n",
    "    \n",
    "    for img in images:\n",
    "        sample_imgs.append(torch.tensor(img.reshape(28,28,3)).permute(2,0,1))\n",
    "        \n",
    "s= torch.stack(sample_imgs)\n",
    "\n",
    "grid = torchvision.utils.make_grid(s, nrow=n_classes) \n",
    "\n",
    "\n",
    "plt.figure(figsize=(8,8), dpi=(128)) # plot the grid\n",
    "plt.imshow(grid.permute(1,2,0))\n",
    "\n",
    "    "
   ]
  },
  {
   "cell_type": "markdown",
   "id": "2883cc16",
   "metadata": {
    "papermill": {
     "duration": 0.008428,
     "end_time": "2024-08-28T15:57:25.892309",
     "exception": false,
     "start_time": "2024-08-28T15:57:25.883881",
     "status": "completed"
    },
    "tags": []
   },
   "source": [
    "# Creating a Custom Dataset"
   ]
  },
  {
   "cell_type": "code",
   "execution_count": 9,
   "id": "7afb91cd",
   "metadata": {
    "execution": {
     "iopub.execute_input": "2024-08-28T15:57:25.911542Z",
     "iopub.status.busy": "2024-08-28T15:57:25.911150Z",
     "iopub.status.idle": "2024-08-28T15:57:25.922519Z",
     "shell.execute_reply": "2024-08-28T15:57:25.921564Z"
    },
    "papermill": {
     "duration": 0.02399,
     "end_time": "2024-08-28T15:57:25.924992",
     "exception": false,
     "start_time": "2024-08-28T15:57:25.901002",
     "status": "completed"
    },
    "tags": []
   },
   "outputs": [],
   "source": [
    "class HAM10KDS(Dataset):\n",
    "    def __init__(self,df,transforms = None, selective = True, OR = 4, normalized = True):\n",
    "        self.data = df\n",
    "        self.y = self.data.label\n",
    "        self.x = self.data.drop(labels = 'label', axis = 1) # dropping labels from columns\n",
    "        \n",
    "        #Reshaping the image array into N x height x width x RGB channgel where N = number of samples \n",
    "        self.x = np.asarray(self.x).reshape(-1,28,28,3)\n",
    "        \n",
    "        #calculating RGb stats for normalization then converting to tensor\n",
    "        self.mean = torch.tensor([np.mean(self.x[:,:,:,channel]) for channel in range(3)], dtype = torch.float32).reshape(1,3,1,1)\n",
    "        self.std = torch.tensor([np.std(self.x[:,:,:,channel]) for channel in range(3)],dtype = torch.float32).reshape(1,3,1,1)\n",
    "        \n",
    "        \n",
    "        #converting the images into torch tensors for transforms and training on GPU\n",
    "        self.x = torch.tensor(self.x,dtype = torch.float32).permute(0,3,1,2)\n",
    "        \n",
    "        if normalized == True:\n",
    "            self.x-= self.mean\n",
    "            self.x /= self.std\n",
    "            \n",
    "        self.resize =T.Resize(size = (28*4,28*4), antialias = True) #Increasing the images by 4 in both dimensinos\n",
    "        \n",
    "        \n",
    "#         self.OR = OR # the label of the over represented class\n",
    "#         self.selective #the input list of transforms\n",
    "        self.tf = transforms #input list of transforms    \n",
    "              \n",
    "    def __getitem__(self,idx):\n",
    "        label = torch.tensor(self.y.iloc[idx]) #geting the lable and converting to a tensor\n",
    "        \n",
    "        img = self.x[idx] #getting the img from the tensor\n",
    "        img = self.resize(img) #upscaling the img\n",
    "        \n",
    "        \n",
    "        #Applying the transforms\n",
    "        if self.tf != None:\n",
    "            img = self.tf(img)\n",
    "        \n",
    "        \n",
    "        return img, label\n",
    "    \n",
    "    def __len__(self):\n",
    "        return len(self.data)\n",
    "    "
   ]
  },
  {
   "cell_type": "markdown",
   "id": "ce83e710",
   "metadata": {
    "papermill": {
     "duration": 0.008397,
     "end_time": "2024-08-28T15:57:25.942235",
     "exception": false,
     "start_time": "2024-08-28T15:57:25.933838",
     "status": "completed"
    },
    "tags": []
   },
   "source": [
    "# ****Creating Tests and Train Split****"
   ]
  },
  {
   "cell_type": "code",
   "execution_count": 10,
   "id": "d794c173",
   "metadata": {
    "execution": {
     "iopub.execute_input": "2024-08-28T15:57:25.961491Z",
     "iopub.status.busy": "2024-08-28T15:57:25.961075Z",
     "iopub.status.idle": "2024-08-28T15:57:26.175159Z",
     "shell.execute_reply": "2024-08-28T15:57:26.173951Z"
    },
    "papermill": {
     "duration": 0.226869,
     "end_time": "2024-08-28T15:57:26.177862",
     "exception": false,
     "start_time": "2024-08-28T15:57:25.950993",
     "status": "completed"
    },
    "tags": []
   },
   "outputs": [],
   "source": [
    "\n",
    "x = data.drop(labels = 'label', axis = 1) #dropping the label from the dataset\n",
    "y = data.label #label for the column \n",
    "\n",
    "#splitting into train and testing data\n",
    "x_train, x_test, y_train, y_test = train_test_split(x,y,test_size = 0.2)\n",
    "\n",
    "x_train.insert(0,'label', value = y_train.values)\n",
    "train_df = x_train\n",
    "\n",
    "x_test.insert(0,'label', value = y_test.values)\n",
    "test_df = x_test\n",
    "\n"
   ]
  },
  {
   "cell_type": "markdown",
   "id": "38aaa95b",
   "metadata": {
    "papermill": {
     "duration": 0.009759,
     "end_time": "2024-08-28T15:57:26.197632",
     "exception": false,
     "start_time": "2024-08-28T15:57:26.187873",
     "status": "completed"
    },
    "tags": []
   },
   "source": [
    "# **Creating the CNN Model**"
   ]
  },
  {
   "cell_type": "code",
   "execution_count": 11,
   "id": "5d1be2ab",
   "metadata": {
    "execution": {
     "iopub.execute_input": "2024-08-28T15:57:26.217969Z",
     "iopub.status.busy": "2024-08-28T15:57:26.217205Z",
     "iopub.status.idle": "2024-08-28T15:57:26.229360Z",
     "shell.execute_reply": "2024-08-28T15:57:26.228224Z"
    },
    "papermill": {
     "duration": 0.024949,
     "end_time": "2024-08-28T15:57:26.231736",
     "exception": false,
     "start_time": "2024-08-28T15:57:26.206787",
     "status": "completed"
    },
    "tags": []
   },
   "outputs": [],
   "source": [
    "#use Densenet121\n",
    "class CNN(nn.Module):\n",
    "    def __init__(self, model_name):\n",
    "        super(CNN,self).__init__()\n",
    "        \n",
    "        self.chose_model = model_name\n",
    "        self.num_classes = 7\n",
    "        \n",
    "        \n",
    "        if self.chose_model == 'resnet34':\n",
    "            self.model = models.resnet34(pretrained= True) ###there is an error with this line\n",
    "            \n",
    "            \n",
    "            self.classifier = nn.Sequential(\n",
    "                nn.Dropout(p=0.1),#adds dropout for regularization to prevent overfitting\n",
    "\n",
    "                nn.Linear(self.model.fc.in_features, 256, bias =False), #applys a linear transformation to the data tor bring it from a higher to to a lower dimention \n",
    "                nn.ReLU(),\n",
    "                nn.BatchNorm1d(256), #256 indicates the input size\n",
    "\n",
    "                nn.Linear(256,128,bias = False),\n",
    "                nn.ReLU(),\n",
    "                nn.BatchNorm1d(128),\n",
    "\n",
    "                nn.Linear(128, self.num_classes, bias = False),\n",
    "                nn.BatchNorm1d(self.num_classes)\n",
    "           ) \n",
    "            self.model.fc = self.classifier #fully connected layer \n",
    "            \n",
    "            \n",
    "        elif self.chose_model == 'densenet121':\n",
    "            \n",
    "            densenet_path = \"/kaggle/input/densenet121pthfile/densenet121-a639ec97.pth\"\n",
    "            state_dict = torch.load(densenet_path)\n",
    "            self.model =  models.densenet121().load_state_dict(state_dict, strict = False)\n",
    "            self.model = models.densenet121()\n",
    "    \n",
    "            \n",
    "            self.classifier = nn.Sequential(\n",
    "                nn.Dropout(p=0.1),#adds dropout for regularization to prevent overfitting\n",
    "\n",
    "                nn.Linear(self.model.classifier.in_features, 256, bias =False), #applys a linear transformation to the data tor bring it from a higher to to a lower dimention \n",
    "                nn.ReLU(),\n",
    "                nn.BatchNorm1d(256), #256 indicates the input size\n",
    "\n",
    "                nn.Linear(256,128,bias = False),\n",
    "                nn.ReLU(),\n",
    "                nn.BatchNorm1d(128),\n",
    "\n",
    "                nn.Linear(128, self.num_classes, bias = False),\n",
    "                nn.BatchNorm1d(self.num_classes)\n",
    "            )\n",
    "            self.model.classifier = self.classifier\n",
    "            \n",
    "            model_parameters = filter(lambda p : p.requires_grad == True, self.model.parameters())\n",
    "            params = sum([np.prod(p.size()) for p in model_parameters])\n",
    "            \n",
    "        \n",
    "        \n",
    "    def forward(self,x):\n",
    "        return self.model(x)\n",
    "            "
   ]
  },
  {
   "cell_type": "markdown",
   "id": "e5e185d2",
   "metadata": {
    "papermill": {
     "duration": 0.008484,
     "end_time": "2024-08-28T15:57:26.249003",
     "exception": false,
     "start_time": "2024-08-28T15:57:26.240519",
     "status": "completed"
    },
    "tags": []
   },
   "source": [
    "# Hyperparametrs"
   ]
  },
  {
   "cell_type": "code",
   "execution_count": 12,
   "id": "fd7fe04f",
   "metadata": {
    "execution": {
     "iopub.execute_input": "2024-08-28T15:57:26.268171Z",
     "iopub.status.busy": "2024-08-28T15:57:26.267763Z",
     "iopub.status.idle": "2024-08-28T15:57:26.273275Z",
     "shell.execute_reply": "2024-08-28T15:57:26.272190Z"
    },
    "papermill": {
     "duration": 0.018054,
     "end_time": "2024-08-28T15:57:26.275722",
     "exception": false,
     "start_time": "2024-08-28T15:57:26.257668",
     "status": "completed"
    },
    "tags": []
   },
   "outputs": [],
   "source": [
    "lr = 0.001\n",
    "bs  = 256\n",
    "EPOCHS = 40\n"
   ]
  },
  {
   "cell_type": "markdown",
   "id": "695aed8f",
   "metadata": {
    "papermill": {
     "duration": 0.008475,
     "end_time": "2024-08-28T15:57:26.293650",
     "exception": false,
     "start_time": "2024-08-28T15:57:26.285175",
     "status": "completed"
    },
    "tags": []
   },
   "source": [
    "# Training & Validation Loop "
   ]
  },
  {
   "cell_type": "code",
   "execution_count": 13,
   "id": "b6fd9241",
   "metadata": {
    "execution": {
     "iopub.execute_input": "2024-08-28T15:57:26.313423Z",
     "iopub.status.busy": "2024-08-28T15:57:26.312378Z",
     "iopub.status.idle": "2024-08-28T15:57:27.898788Z",
     "shell.execute_reply": "2024-08-28T15:57:27.897414Z"
    },
    "papermill": {
     "duration": 1.599981,
     "end_time": "2024-08-28T15:57:27.902387",
     "exception": false,
     "start_time": "2024-08-28T15:57:26.302406",
     "status": "completed"
    },
    "tags": []
   },
   "outputs": [
    {
     "name": "stdout",
     "output_type": "stream",
     "text": [
      "There are 8012 training examples and 2003 testing examples\n"
     ]
    }
   ],
   "source": [
    "#Image augmentatino used only for training\n",
    "\n",
    "#compose composes several transfomrs together\n",
    "tf = T.Compose([\n",
    "    T.RandomHorizontalFlip(p=0.5),\n",
    "    T.RandomVerticalFlip(p = 0.5),\n",
    "    T.RandomAffine(degrees = 15,\n",
    "                  translate = (0.1,0.1),\n",
    "                    scale = (0.9,1.0),\n",
    "                   shear =(10))\n",
    "])\n",
    "\n",
    "#creating a datset and dataloder for train and test \n",
    "train_ds = HAM10KDS(train_df, tf)\n",
    "train_dl = DataLoader(train_ds, batch_size = bs,shuffle = True, pin_memory = True, num_workers = 2)\n",
    "\n",
    "test_ds = HAM10KDS(test_df, tf)\n",
    "test_dl = DataLoader(test_ds,batch_size = bs, shuffle = False, pin_memory = True, num_workers = 2)\n",
    "\n",
    "print(\"There are\", len(train_ds),\"training examples and\", len(test_ds),\"testing examples\")\n",
    "\n",
    "\n",
    "#Creating a cnn model\n",
    "model = CNN(model_name ='densenet121').to(DEVICE)\n",
    "\n",
    "\n",
    "#freezing the model and only training the fully connected layers of the model that were added\n",
    "\n",
    "for p in model.parameters():\n",
    "    p.requires_grad = False  #prevents backbone layers from being updated during backprop\n",
    "for p in model.classifier.parameters():\n",
    "    p.requires_grad = True  #loops through the parameters of classifier and ensure layers are updated during training\n",
    "    \n",
    "\n",
    "optimizer = optim.AdamW(model.parameters(), lr = lr, weight_decay = 0.1)\n",
    "\n",
    "\n",
    "#Loss function,have one for train and another for test/eval in case the train loss is different\n",
    "criterion = nn.CrossEntropyLoss()\n",
    "eval_criterion = nn.CrossEntropyLoss()\n",
    "\n",
    "#Learning rate Scheduler - adjusts the learning rate during training to improve convergence\n",
    "scheduler = torch.optim.lr_scheduler.ReduceLROnPlateau(optimizer, mode = 'max', factor = 0.1, patience = 3, threshold = 0.0001, threshold_mode = 'rel', cooldown = 0 , min_lr = 0 , eps = 1e-08, verbose = True)\n",
    "                                        "
   ]
  },
  {
   "cell_type": "code",
   "execution_count": 14,
   "id": "76dada72",
   "metadata": {
    "execution": {
     "iopub.execute_input": "2024-08-28T15:57:27.924289Z",
     "iopub.status.busy": "2024-08-28T15:57:27.923740Z",
     "iopub.status.idle": "2024-08-28T16:16:24.046727Z",
     "shell.execute_reply": "2024-08-28T16:16:24.044952Z"
    },
    "papermill": {
     "duration": 1136.137202,
     "end_time": "2024-08-28T16:16:24.049414",
     "exception": false,
     "start_time": "2024-08-28T15:57:27.912212",
     "status": "completed"
    },
    "tags": []
   },
   "outputs": [
    {
     "name": "stdout",
     "output_type": "stream",
     "text": [
      "Highest accuracy to beat is 0.8\n"
     ]
    },
    {
     "name": "stderr",
     "output_type": "stream",
     "text": [
      "TRAIN | epoch 1/40 | acc 0.3693 | loss 1.6846: 100%|██████████| 32/32 [05:26<00:00, 10.20s/it]\n",
      "TEST | epoch 1/40 | acc 0.5586 | loss 1.5632:   0%|          | 0/8 [00:09<?, ?it/s]/tmp/ipykernel_18/1281314032.py:120: UserWarning: To copy construct from a tensor, it is recommended to use sourceTensor.clone().detach() or sourceTensor.clone().detach().requires_grad_(True), rather than torch.tensor(sourceTensor).\n",
      "  scheduler.step(torch.tensor(acc))\n",
      "TEST | epoch 1/40 | acc 0.5336 | loss 1.6453:  62%|██████▎   | 5/8 [00:43<00:25,  8.59s/it]"
     ]
    },
    {
     "name": "stdout",
     "output_type": "stream",
     "text": [
      "Epoch 00005: reducing learning rate of group 0 to 1.0000e-04.\n"
     ]
    },
    {
     "name": "stderr",
     "output_type": "stream",
     "text": [
      "TEST | epoch 1/40 | acc 0.5407 | loss 1.6632: 100%|██████████| 8/8 [01:08<00:00,  8.53s/it]\n",
      "TRAIN | epoch 2/40 | acc 0.5619 | loss 1.4882: 100%|██████████| 32/32 [05:06<00:00,  9.57s/it]\n",
      "TEST | epoch 2/40 | acc 0.5477 | loss 1.5753:  62%|██████▎   | 5/8 [00:42<00:25,  8.39s/it]"
     ]
    },
    {
     "name": "stdout",
     "output_type": "stream",
     "text": [
      "Epoch 00013: reducing learning rate of group 0 to 1.0000e-05.\n"
     ]
    },
    {
     "name": "stderr",
     "output_type": "stream",
     "text": [
      "TEST | epoch 2/40 | acc 0.5482 | loss 1.6117: 100%|██████████| 8/8 [01:05<00:00,  8.20s/it]\n",
      "TRAIN | epoch 3/40 | acc 0.5632 | loss 1.5756: 100%|██████████| 32/32 [05:03<00:00,  9.49s/it]\n",
      "TEST | epoch 3/40 | acc 0.5586 | loss 1.4765:  12%|█▎        | 1/8 [00:09<01:09,  9.88s/it]"
     ]
    },
    {
     "name": "stdout",
     "output_type": "stream",
     "text": [
      "Epoch 00017: reducing learning rate of group 0 to 1.0000e-06.\n"
     ]
    },
    {
     "name": "stderr",
     "output_type": "stream",
     "text": [
      "TEST | epoch 3/40 | acc 0.5469 | loss 1.5299:  62%|██████▎   | 5/8 [00:42<00:24,  8.24s/it]"
     ]
    },
    {
     "name": "stdout",
     "output_type": "stream",
     "text": [
      "Epoch 00021: reducing learning rate of group 0 to 1.0000e-07.\n"
     ]
    },
    {
     "name": "stderr",
     "output_type": "stream",
     "text": [
      "TEST | epoch 3/40 | acc 0.5482 | loss 1.5514: 100%|██████████| 8/8 [01:05<00:00,  8.24s/it]"
     ]
    },
    {
     "name": "stdout",
     "output_type": "stream",
     "text": [
      "EARLY STOPPING! LR BELOW 1e-06\n"
     ]
    },
    {
     "name": "stderr",
     "output_type": "stream",
     "text": [
      "\n"
     ]
    }
   ],
   "source": [
    "highest_acc = .8\n",
    "EPOCHS = 40 #total number of epochs\n",
    "FTR_EPOCHS = 5  #first epochs to fine tune the classifer head only, after this then fine tuning happens\n",
    "LR_MIN = 1e-6 #minimum learning rate, below that training stopping occurs\n",
    "SAVE_CHECKPOINT = True #flag\n",
    "SAVE_HIGHEST = True # flag\n",
    "\n",
    "\n",
    "train_acc = []\n",
    "train_losses = []\n",
    "          \n",
    "test_acc = []\n",
    "test_losses = []\n",
    "\n",
    "lrs = []\n",
    "\n",
    "lr0 = lr*0.01\n",
    "\n",
    "#lr step for slow warm up from lr0 to lr\n",
    "lr_step = (lr-lr0)/ (len(train_dl)-1)\n",
    "\n",
    "\n",
    "best_acc = 0.9 * highest_acc\n",
    "\n",
    "print(f'Highest accuracy to beat is {highest_acc}')\n",
    "\n",
    "\n",
    "for epoch in range(EPOCHS):\n",
    "    loader = tqdm(train_dl)# shows the loading bar \n",
    "    losses = [] #logs avg loss per epoch\n",
    "    accs = [] #logs avg accuracy for each epoch\n",
    "    correct = 0 #counts how many correct predictions\n",
    "    count = 0 \n",
    "    \n",
    "    if epoch>0:\n",
    "        #len(train_dl) --> gives the number of batches in the training data loader\n",
    "        #creates a list with current learning rate repeated len(train_dl) times\n",
    "        \n",
    "        lrs+= [optimizer.param_groups[0]['lr']] * len(train_dl)#track lr after warm up  \n",
    "        \n",
    "    model.train() #tells you that you are training the model, sets mode to train\n",
    "    for batch_index,(images, labels) in enumerate(loader):\n",
    "\n",
    "        #learning rate warmup\n",
    "        if epoch ==0:\n",
    "            lr_ = lr0 +lr_step*batch_index #slowly incc reasing lr from lr0 t lr1 in the 1st eppoch\n",
    "\n",
    "            for op in optimizer.param_groups:\n",
    "                op['lr'] = lr_\n",
    "\n",
    "            lrs.append(optimizer.param_groups[0]['lr']) #tracks lr\n",
    "\n",
    "        #moving data to GPU\n",
    "        images = images.to(DEVICE)\n",
    "        labels = labels.to(DEVICE)\n",
    "\n",
    "        #forward pass\n",
    "        score = model(images)\n",
    "\n",
    "        #computing loss\n",
    "        loss = criterion(score, labels)\n",
    "\n",
    "        #Backprop & Optimization\n",
    "        optimizer.zero_grad() #clears the gradient from previous batch\n",
    "        loss.backward() #backpropogation\n",
    "        optimizer.step() #gradient descent- upades model parameters\n",
    "\n",
    "        with torch.no_grad():# ensures that no grads are calculated here / disables ghradient calculation here\n",
    "            pred = torch.argmax(score, - 1).detach()\n",
    "            correct += (pred ==labels).sum() # count how many correct\n",
    "            count += len(labels) \n",
    "            acc = correct/count #accumalated accuracy\n",
    "\n",
    "            losses.append(loss.item()) #records and appends the loss to losses\n",
    "            accs.append(acc) #records and appends the accuracy to accs\n",
    "\n",
    "            #progress bar .4f is the number of decimal places \n",
    "            loader.set_description(f'TRAIN | epoch {epoch+1}/{EPOCHS} | acc {acc:.4f} | loss {loss.item():.4f}')\n",
    "\n",
    "            #Epoch training summary\n",
    "            train_acc.append(acc)\n",
    "            train_losses.append(torch.tensor(losses).mean().item())\n",
    "\n",
    "\n",
    "\n",
    "\n",
    "            #testing/validation (Evaluation Loop)\n",
    "    model.eval()\n",
    "    with torch.no_grad(): #turning off gradient tracking\n",
    "        loader = tqdm(test_dl)\n",
    "\n",
    "        losses =[] #logging loss per mini-batch\n",
    "        accs = []  #logging running accuracy through one epoch\n",
    "\n",
    "        correct = 0  #counts how many correct predicitions in one epocuh\n",
    "        count = 0   #counts # of smaples in one epoch\n",
    "\n",
    "        for batch_index, (images,labels) in enumerate(loader):\n",
    "            images = images.to(DEVICE)\n",
    "            labels = labels.to(DEVICE)\n",
    "\n",
    "            score = model(images)\n",
    "            loss = eval_criterion(score,labels)\n",
    "\n",
    "            pred = torch.argmax(score, - 1).detach()\n",
    "            correct += (pred ==labels).sum()\n",
    "            count+= len(labels)\n",
    "\n",
    "            acc = correct/count\n",
    "            loader.set_description(f'TEST | epoch {epoch+1}/{EPOCHS} | acc {acc:.4f} | loss {loss.item():.4f}')\n",
    "\n",
    "            losses.append(loss.item())\n",
    "            accs.append(acc)\n",
    "\n",
    "            #final accuracy and losses are logged\n",
    "            test_acc.append(acc)\n",
    "            test_losses.append(torch.tensor(losses).mean().item())\n",
    "\n",
    "            #adjusts learning rate based on test accuracy(if test accuracy does not imporve learnig rate can be reduced\n",
    "            scheduler.step(torch.tensor(acc))\n",
    "\n",
    "    #checkpointing - saves the models highest important categories\n",
    "    if SAVE_CHECKPOINT == True:\n",
    "        if test_acc[-1]> best_acc:# if the last test accuracy is greater than the best accuracy\n",
    "            best_acc = test_acc[-1].item()\n",
    "            checkpoint  = {\n",
    "                'model' : model,\n",
    "                'losses':[train_losses, test_losses],\n",
    "                'accs': [train_acc, test_acc],\n",
    "                'lrs' : lrs,\n",
    "                'best_acc' : best_acc,\n",
    "                'last_epoch_trained' : epoch,\n",
    "            }\n",
    "            if best_acc> highest_acc and SAVE_HIGHEST == True:\n",
    "                old_highest_acc = highest_acc\n",
    "                highest_acc = best_acc\n",
    "                torch.save(highest_acc, 'highest_acc.pt')\n",
    "\n",
    "                # if model achieves highest accuracy so far, saves trhe accuracy and logs achievement\n",
    "                print(f'HIGHEST ACCURACY SURPASSES FROM {old_highest_acc} to {highest_acc}')\n",
    "                torch.save(checkpoint, f'{highest_acc:.4f} checkpoint.pt')\n",
    "\n",
    "            torch.save(checkpoint, 'checkpoint.pt')\n",
    "            print(f'Checkpointed wi {best_acc:.4f} best acc')\n",
    "\n",
    "    if optimizer.param_groups[0]['lr'] < LR_MIN:\n",
    "        print(f'EARLY STOPPING! LR BELOW {LR_MIN}')\n",
    "        break\n",
    "\n"
   ]
  },
  {
   "cell_type": "code",
   "execution_count": null,
   "id": "19a7910d",
   "metadata": {
    "papermill": {
     "duration": 0.025485,
     "end_time": "2024-08-28T16:16:24.100902",
     "exception": false,
     "start_time": "2024-08-28T16:16:24.075417",
     "status": "completed"
    },
    "tags": []
   },
   "outputs": [],
   "source": []
  },
  {
   "cell_type": "markdown",
   "id": "e5c1aca2",
   "metadata": {
    "papermill": {
     "duration": 0.025538,
     "end_time": "2024-08-28T16:16:24.152077",
     "exception": false,
     "start_time": "2024-08-28T16:16:24.126539",
     "status": "completed"
    },
    "tags": []
   },
   "source": []
  }
 ],
 "metadata": {
  "kaggle": {
   "accelerator": "none",
   "dataSources": [
    {
     "datasetId": 54339,
     "sourceId": 104884,
     "sourceType": "datasetVersion"
    },
    {
     "datasetId": 5593914,
     "sourceId": 9246903,
     "sourceType": "datasetVersion"
    },
    {
     "datasetId": 5593959,
     "sourceId": 9247002,
     "sourceType": "datasetVersion"
    }
   ],
   "dockerImageVersionId": 30746,
   "isGpuEnabled": false,
   "isInternetEnabled": false,
   "language": "python",
   "sourceType": "notebook"
  },
  "kernelspec": {
   "display_name": "Python 3",
   "language": "python",
   "name": "python3"
  },
  "language_info": {
   "codemirror_mode": {
    "name": "ipython",
    "version": 3
   },
   "file_extension": ".py",
   "mimetype": "text/x-python",
   "name": "python",
   "nbconvert_exporter": "python",
   "pygments_lexer": "ipython3",
   "version": "3.10.13"
  },
  "papermill": {
   "default_parameters": {},
   "duration": 1173.396216,
   "end_time": "2024-08-28T16:16:26.931564",
   "environment_variables": {},
   "exception": null,
   "input_path": "__notebook__.ipynb",
   "output_path": "__notebook__.ipynb",
   "parameters": {},
   "start_time": "2024-08-28T15:56:53.535348",
   "version": "2.5.0"
  }
 },
 "nbformat": 4,
 "nbformat_minor": 5
}
